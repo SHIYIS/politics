{
  "nbformat": 4,
  "nbformat_minor": 0,
  "metadata": {
    "colab": {
      "name": "Untitled0.ipynb",
      "provenance": [],
      "collapsed_sections": []
    },
    "kernelspec": {
      "name": "python3",
      "display_name": "Python 3"
    },
    "language_info": {
      "name": "python"
    }
  },
  "cells": [
    {
      "cell_type": "code",
      "source": [
        "# !git clone https://github.com/tweepy/tweepy.git\n",
        "import os\n",
        "os.chdir('/content/tweepy')\n",
        "!pwd\n",
        "!pip install ."
      ],
      "metadata": {
        "colab": {
          "base_uri": "https://localhost:8080/",
          "height": 610
        },
        "id": "hlZ_eimd5Tm1",
        "outputId": "23238440-7079-449d-ac91-7fe64a2e0126"
      },
      "execution_count": null,
      "outputs": [
        {
          "output_type": "display_data",
          "data": {
            "application/vnd.colab-display-data+json": {
              "pip_warning": {
                "packages": [
                  "requests",
                  "tweepy"
                ]
              }
            }
          },
          "metadata": {}
        }
      ]
    },
    {
      "cell_type": "code",
      "source": [
        "import tweepy\n",
        "from tweepy import OAuthHandler\n",
        "import pandas as pd\n",
        "import time\n",
        "\n",
        "import pandas as pd\n",
        "import requests\n",
        "\n",
        "consumer_key = \"YOUR_KEY\"\n",
        "consumer_secret = \"YOUR_KEY\"\n",
        "bearer_token = \"YOUR_KEY\"\n",
        "access_token = 'YOUR_KEY'\n",
        "access_token_secret = 'YOUR_KEY'\n",
        "\n",
        "# Replace with your own search query\n",
        "\n",
        "client = tweepy.Client( bearer_token=bearer_token, \n",
        "                        consumer_key=consumer_key, \n",
        "                        consumer_secret=consumer_secret, \n",
        "                        access_token=access_token, \n",
        "                        access_token_secret=access_token_secret, \n",
        "                        wait_on_rate_limit=True)\n",
        "\n",
        "response = client.get_user(username='RepHagan')\n",
        "id = response.data.id\n",
        "tweets = client.get_users_tweets(id=id, tweet_fields=['context_annotations','id','created_at','geo',\"text\",],max_results=100)\n",
        "\n",
        "# Pulling information from tweets iterable object and adding relevant tweet information in our data frame\n",
        "\n",
        "df_user_tweets = pd.DataFrame()\n",
        "for tweet in tweets.data:\n",
        "  df_user_tweets = df_user_tweets.append(\n",
        "    {'Created at': tweet.created_at,\n",
        "      'User ID': tweet.id,\n",
        "      'Text': tweet.text,\n",
        "      }, ignore_index=True)\n",
        "df_user_tweets.to_csv('out.csv')"
      ],
      "metadata": {
        "id": "Waq9F3-u5eX3",
        "colab": {
          "base_uri": "https://localhost:8080/"
        },
        "outputId": "07cba3f4-bb4f-4da1-8ec0-afeb4e3e776a"
      },
      "execution_count": 48,
      "outputs": [
        {
          "output_type": "stream",
          "name": "stdout",
          "text": [
            "1539040047068073984\n",
            "2022-06-21 00:18:35+00:00\n",
            "♥️✅🙌🏻 https://t.co/oYKUU8LvP1\n"
          ]
        }
      ]
    }
  ]
}
